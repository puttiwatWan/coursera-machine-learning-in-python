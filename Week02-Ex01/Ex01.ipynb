{
 "cells": [
  {
   "cell_type": "markdown",
   "metadata": {},
   "source": [
    "# Exercise 1: Identity Matrix"
   ]
  },
  {
   "cell_type": "code",
   "execution_count": 1,
   "metadata": {},
   "outputs": [],
   "source": [
    "import numpy as np"
   ]
  },
  {
   "cell_type": "code",
   "execution_count": 2,
   "metadata": {},
   "outputs": [
    {
     "name": "stdout",
     "output_type": "stream",
     "text": [
      "[[1. 0. 0. 0. 0.]\n",
      " [0. 1. 0. 0. 0.]\n",
      " [0. 0. 1. 0. 0.]\n",
      " [0. 0. 0. 1. 0.]\n",
      " [0. 0. 0. 0. 1.]]\n"
     ]
    }
   ],
   "source": [
    "identity_matrix = np.identity(5)\n",
    "print(identity_matrix)"
   ]
  },
  {
   "cell_type": "markdown",
   "metadata": {},
   "source": [
    "# Exercise 2: Univariate Linear Regression"
   ]
  },
  {
   "cell_type": "code",
   "execution_count": 3,
   "metadata": {},
   "outputs": [],
   "source": [
    "import pandas as pd\n",
    "import copy"
   ]
  },
  {
   "cell_type": "markdown",
   "metadata": {},
   "source": [
    "### Import Data from a File"
   ]
  },
  {
   "cell_type": "code",
   "execution_count": 4,
   "metadata": {
    "scrolled": true
   },
   "outputs": [
    {
     "name": "stdout",
     "output_type": "stream",
     "text": [
      "   Population   Profit\n",
      "0      6.1101  17.5920\n",
      "1      5.5277   9.1302\n",
      "2      8.5186  13.6620\n",
      "3      7.0032  11.8540\n",
      "4      5.8598   6.8233\n",
      "5      8.3829  11.8860\n",
      "6      7.4764   4.3483\n",
      "7      8.5781  12.0000\n",
      "8      6.4862   6.5987\n",
      "9      5.0546   3.8166\n"
     ]
    }
   ],
   "source": [
    "data_ex2 = pd.read_csv('ex1data1.txt', sep=\",\", header=None, names=[\"Population\", \"Profit\"])\n",
    "print(data_ex2.head(10))\n",
    "data_X_ex2 = data_ex2.iloc[:, :len(data_ex2.columns)-1]\n",
    "data_y_ex2 = data_ex2.iloc[:, len(data_ex2.columns)-1:]"
   ]
  },
  {
   "cell_type": "markdown",
   "metadata": {},
   "source": [
    "Scatter Plot"
   ]
  },
  {
   "cell_type": "code",
   "execution_count": 5,
   "metadata": {
    "scrolled": true
   },
   "outputs": [
    {
     "data": {
      "text/plain": [
       "<matplotlib.axes._subplots.AxesSubplot at 0x1fc1109c5c8>"
      ]
     },
     "execution_count": 5,
     "metadata": {},
     "output_type": "execute_result"
    },
    {
     "data": {
      "image/png": "[encoded data removed]",
      "text/plain": [
       "<Figure size 432x288 with 1 Axes>"
      ]
     },
     "metadata": {
      "needs_background": "light"
     },
     "output_type": "display_data"
    }
   ],
   "source": [
    "data_ex2.plot.scatter('Population', 'Profit')"
   ]
  },
  {
   "cell_type": "markdown",
   "metadata": {},
   "source": [
    "### Utils"
   ]
  },
  {
   "cell_type": "code",
   "execution_count": 6,
   "metadata": {},
   "outputs": [],
   "source": [
    "def add_column_of_x0(matrix):\n",
    "    rows = matrix.shape[0]\n",
    "    columns = matrix.shape[1]\n",
    "    new_matrix = np.ones((rows, columns+1))\n",
    "    new_matrix[:, 1:] = matrix\n",
    "    return new_matrix\n",
    "\n",
    "def get_m(X):\n",
    "    return X.shape[0]\n",
    "\n",
    "def get_n(X):\n",
    "    return X.shape[1]-1\n",
    "\n",
    "def init_theta(X, y):\n",
    "    return np.zeros((X.shape[1], y.shape[1]))"
   ]
  },
  {
   "cell_type": "markdown",
   "metadata": {},
   "source": [
    "Create Matrix X and y"
   ]
  },
  {
   "cell_type": "code",
   "execution_count": 7,
   "metadata": {},
   "outputs": [
    {
     "name": "stdout",
     "output_type": "stream",
     "text": [
      "Samples: 97\n",
      "Features: 1\n",
      "X: (97, 2)\n",
      "y: (97, 1)\n"
     ]
    }
   ],
   "source": [
    "tmp_X_ex2 = data_X_ex2.to_numpy()\n",
    "print(\"Samples:\", tmp_X_ex2.shape[0])\n",
    "print(\"Features:\", tmp_X_ex2.shape[1])\n",
    "\n",
    "# add x0\n",
    "X_ex2 = add_column_of_x0(tmp_X_ex2)\n",
    "print(\"X:\", X_ex2.shape)\n",
    "\n",
    "y_ex2 = data_y_ex2.to_numpy()\n",
    "print(\"y:\", y_ex2.shape)"
   ]
  },
  {
   "cell_type": "code",
   "execution_count": 8,
   "metadata": {},
   "outputs": [],
   "source": [
    "# print(\"X:\", X)\n",
    "# print(\"y:\", y)"
   ]
  },
  {
   "cell_type": "markdown",
   "metadata": {},
   "source": [
    "Set learning rate and iteration"
   ]
  },
  {
   "cell_type": "code",
   "execution_count": 9,
   "metadata": {},
   "outputs": [],
   "source": [
    "alpha_ex2 = 0.01\n",
    "iterations_ex2 = 1500"
   ]
  },
  {
   "cell_type": "markdown",
   "metadata": {},
   "source": [
    "###  Cost Function Calculation"
   ]
  },
  {
   "cell_type": "code",
   "execution_count": 10,
   "metadata": {},
   "outputs": [],
   "source": [
    "def calculate_j(theta, X, y):\n",
    "    m = get_m(X)\n",
    "    hx = np.matmul(X, theta)\n",
    "    return (1/(2 * m)) * np.sum(np.square(hx - y))"
   ]
  },
  {
   "cell_type": "markdown",
   "metadata": {},
   "source": [
    "### Alternative Cost Function Calculation (From Exercise 3 Below)\n",
    "This is an alternative way to calculate J from Exercise 3 (matrix perspective)."
   ]
  },
  {
   "cell_type": "code",
   "execution_count": 11,
   "metadata": {},
   "outputs": [],
   "source": [
    "def alt_calculate_j(theta, X, y):\n",
    "    m = get_m(X)\n",
    "    X_theta = np.matmul(X, theta)\n",
    "    hx_y = X_theta - y\n",
    "    return 1/(2*m)*np.sum(np.dot(np.transpose(hx_y), hx_y))"
   ]
  },
  {
   "cell_type": "code",
   "execution_count": 12,
   "metadata": {},
   "outputs": [
    {
     "name": "stdout",
     "output_type": "stream",
     "text": [
      "32.072733877455676\n",
      "32.07273387745567\n"
     ]
    }
   ],
   "source": [
    "print(calculate_j(init_theta(X_ex2, y_ex2), X_ex2, y_ex2))\n",
    "print(alt_calculate_j(init_theta(X_ex2, y_ex2), X_ex2, y_ex2))"
   ]
  },
  {
   "cell_type": "markdown",
   "metadata": {},
   "source": [
    "### Theta Update"
   ]
  },
  {
   "cell_type": "code",
   "execution_count": 13,
   "metadata": {},
   "outputs": [],
   "source": [
    "def update_theta(theta, X, y, alpha):\n",
    "    theta = copy.deepcopy(theta)\n",
    "    m = get_m(X)\n",
    "    for j in range(theta.shape[0]):\n",
    "        hx = np.matmul(X, theta)\n",
    "        hx_y_x = np.multiply(hx - y, X[:, j:j+1])\n",
    "        theta[j,0] = theta[j,0] - alpha*(1/m)*np.sum(hx_y_x)\n",
    "    return theta"
   ]
  },
  {
   "cell_type": "markdown",
   "metadata": {},
   "source": [
    "### Gradient Descent"
   ]
  },
  {
   "cell_type": "code",
   "execution_count": 14,
   "metadata": {},
   "outputs": [],
   "source": [
    "def gradient_descent_calculation(X, y, alpha, iterations):\n",
    "    theta = init_theta(X, y)\n",
    "    \n",
    "#     old_j = calculate_j(theta, X, y)\n",
    "    old_j = alt_calculate_j(theta, X, y)\n",
    "    theta = update_theta(theta, X, y, alpha)\n",
    "    for i in range(1, iterations):\n",
    "#         j = calculate_j(theta, X, y)\n",
    "        j = alt_calculate_j(theta, X, y)\n",
    "        theta = update_theta(theta, X, y, alpha)\n",
    "        \n",
    "        if j > old_j:\n",
    "            print(f\"J increases on loop {i} from value {old_j} to {j}\")\n",
    "#     Break if the change in J is too low\n",
    "        if old_j - j <= 0.00001:\n",
    "            print(f\"Converge on loop {i}\")\n",
    "            break\n",
    "        old_j = j\n",
    "\n",
    "    print(\"J:\", j)\n",
    "    return theta"
   ]
  },
  {
   "cell_type": "code",
   "execution_count": 15,
   "metadata": {
    "scrolled": true
   },
   "outputs": [
    {
     "name": "stdout",
     "output_type": "stream",
     "text": [
      "J: 4.483134519095647\n",
      "[[-3.63606348]\n",
      " [ 1.16698916]]\n"
     ]
    }
   ],
   "source": [
    "iterations_ex2 = 1500\n",
    "theta_ex2 = gradient_descent_calculation(X_ex2, y_ex2, alpha_ex2, iterations_ex2)\n",
    "print(theta_ex2)"
   ]
  },
  {
   "cell_type": "markdown",
   "metadata": {},
   "source": [
    "# Exercise 3: Multivariate Linear Regression"
   ]
  },
  {
   "cell_type": "markdown",
   "metadata": {},
   "source": [
    "### Import Data from a File"
   ]
  },
  {
   "cell_type": "code",
   "execution_count": 16,
   "metadata": {
    "scrolled": true
   },
   "outputs": [
    {
     "name": "stdout",
     "output_type": "stream",
     "text": [
      "   Size  Bedrooms   Price\n",
      "0  2104         3  399900\n",
      "1  1600         3  329900\n",
      "2  2400         3  369000\n",
      "3  1416         2  232000\n",
      "4  3000         4  539900\n",
      "5  1985         4  299900\n",
      "6  1534         3  314900\n",
      "7  1427         3  198999\n",
      "8  1380         3  212000\n",
      "9  1494         3  242500\n"
     ]
    }
   ],
   "source": [
    "data_ex3 = pd.read_csv('ex1data2.txt', sep=\",\", header=None, names=[\"Size\", \"Bedrooms\", \"Price\"])\n",
    "print(data_ex3.head(10))\n",
    "    \n",
    "data_X_ex3 = data_ex3.iloc[:, :len(data_ex3.columns)-1]\n",
    "data_y_ex3 = data_ex3.iloc[:, len(data_ex3.columns)-1:]"
   ]
  },
  {
   "cell_type": "markdown",
   "metadata": {},
   "source": [
    "### Feature Normalization"
   ]
  },
  {
   "cell_type": "code",
   "execution_count": 17,
   "metadata": {},
   "outputs": [],
   "source": [
    "def normalize_feature(matrix, has_x0=False):\n",
    "    matrix = copy.deepcopy(matrix)\n",
    "    mean = np.mean(matrix, axis=0)\n",
    "    std = np.std(matrix, axis=0)\n",
    "#     print(mean)\n",
    "#     print(std)\n",
    "    \n",
    "    start_from = 0\n",
    "    if has_x0:\n",
    "        start_from = 1\n",
    "    # start at index 1 to exclude x0\n",
    "    for i in range(start_from, mean.shape[0]):\n",
    "        matrix[:,i] = (matrix[:,i] - mean[i]) / std[i]\n",
    "    \n",
    "    return matrix"
   ]
  },
  {
   "cell_type": "markdown",
   "metadata": {},
   "source": [
    "Normalize X and y."
   ]
  },
  {
   "cell_type": "code",
   "execution_count": 18,
   "metadata": {
    "scrolled": true
   },
   "outputs": [
    {
     "name": "stdout",
     "output_type": "stream",
     "text": [
      "Samples: 47\n",
      "Features: 2\n",
      "X: (47, 3)\n",
      "y: (47, 1)\n"
     ]
    }
   ],
   "source": [
    "raw_X_ex3 = data_X_ex3.to_numpy(dtype=float)\n",
    "\n",
    "print(\"Samples:\", raw_X_ex3.shape[0])\n",
    "print(\"Features:\", raw_X_ex3.shape[1])\n",
    "\n",
    "# add x0\n",
    "X_ex3_unnormalized = add_column_of_x0(raw_X_ex3)\n",
    "X_ex3_normalized = normalize_feature(X_ex3_unnormalized, has_x0=True)\n",
    "print(\"X:\", X_ex3_normalized.shape)\n",
    "\n",
    "y_ex3_unnormalized = data_y_ex3.to_numpy(dtype=float)\n",
    "y_ex3_normalized = normalize_feature(y_ex3_unnormalized)\n",
    "print(\"y:\", y_ex3_normalized.shape)"
   ]
  },
  {
   "cell_type": "code",
   "execution_count": 19,
   "metadata": {},
   "outputs": [],
   "source": [
    "# print(X_ex3_unnormalized)\n",
    "# print(X_ex3_normalized)\n",
    "# print(y_ex3_unnormalized)\n",
    "# print(y_ex3_normalized)"
   ]
  },
  {
   "cell_type": "markdown",
   "metadata": {},
   "source": [
    "Set learning rate and iteration. Then run gradient descent."
   ]
  },
  {
   "cell_type": "code",
   "execution_count": 20,
   "metadata": {},
   "outputs": [
    {
     "name": "stdout",
     "output_type": "stream",
     "text": [
      "Converge on loop 327\n",
      "J: 2043280050.6029234\n",
      "[[340412.65957447]\n",
      " [109447.7823091 ]\n",
      " [ -6578.34101797]]\n"
     ]
    }
   ],
   "source": [
    "alpha_ex3 = 0.1\n",
    "iterations_ex3 = 1500\n",
    "\n",
    "theta_ex3 = gradient_descent_calculation(X_ex3_normalized, y_ex3_unnormalized, alpha_ex3, iterations_ex3)\n",
    "print(theta_ex3)"
   ]
  },
  {
   "cell_type": "code",
   "execution_count": 21,
   "metadata": {},
   "outputs": [
    {
     "data": {
      "text/plain": [
       "353308.46680205886"
      ]
     },
     "execution_count": 21,
     "metadata": {},
     "output_type": "execute_result"
    }
   ],
   "source": [
    "theta_ex3[0,0] + theta_ex3[1,0]*X_ex3_normalized[0,1] - theta_ex3[2,0]*X_ex3_normalized[0,2]"
   ]
  },
  {
   "cell_type": "markdown",
   "metadata": {},
   "source": [
    "### Normal Equations"
   ]
  },
  {
   "cell_type": "code",
   "execution_count": 22,
   "metadata": {},
   "outputs": [],
   "source": [
    "def calculate_theta_ne(X, y):\n",
    "    XT = np.transpose(X)\n",
    "    XT_X = np.matmul(XT, X)\n",
    "    XT_X_inv = np.linalg.inv(XT_X)\n",
    "    XT_X_inv_XT = np.matmul(XT_X_inv, XT)\n",
    "    theta = np.matmul(XT_X_inv_XT, y)\n",
    "    return theta"
   ]
  },
  {
   "cell_type": "code",
   "execution_count": 23,
   "metadata": {},
   "outputs": [
    {
     "name": "stdout",
     "output_type": "stream",
     "text": [
      "J: 2043280050.602828\n",
      "Theta:\n",
      " [[89597.9095428 ]\n",
      " [  139.21067402]\n",
      " [-8738.01911233]]\n"
     ]
    }
   ],
   "source": [
    "theta_ex3_ne = calculate_theta_ne(X_ex3_unnormalized, y_ex3_unnormalized)\n",
    "j_ex3_ne = calculate_j(theta_ex3_ne, X_ex3_unnormalized, y_ex3_unnormalized)\n",
    "print(\"J:\", j_ex3_ne)\n",
    "print(\"Theta:\\n\", theta_ex3_ne)"
   ]
  },
  {
   "cell_type": "code",
   "execution_count": 24,
   "metadata": {
    "scrolled": true
   },
   "outputs": [
    {
     "data": {
      "text/plain": [
       "408711.2250128632"
      ]
     },
     "execution_count": 24,
     "metadata": {},
     "output_type": "execute_result"
    }
   ],
   "source": [
    "theta_ex3_ne[0,0] + theta_ex3_ne[1,0]*X_ex3_unnormalized[0,1] - theta_ex3_ne[2,0]*X_ex3_unnormalized[0,2]"
   ]
  }
 ],
 "metadata": {
  "kernelspec": {
   "display_name": "Python 3",
   "language": "python",
   "name": "python3"
  },
  "language_info": {
   "codemirror_mode": {
    "name": "ipython",
    "version": 3
   },
   "file_extension": ".py",
   "mimetype": "text/x-python",
   "name": "python",
   "nbconvert_exporter": "python",
   "pygments_lexer": "ipython3",
   "version": "3.7.6"
  }
 },
 "nbformat": 4,
 "nbformat_minor": 4
}
